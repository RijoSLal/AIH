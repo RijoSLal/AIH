{
 "cells": [
  {
   "cell_type": "markdown",
   "id": "8f761ef9-251e-4e86-978c-ecbc3defa833",
   "metadata": {},
   "source": [
    "# Mlops with Dagshub and Mlflow"
   ]
  },
  {
   "cell_type": "code",
   "execution_count": 1,
   "id": "c746585f-8013-423d-bf82-44d431636524",
   "metadata": {},
   "outputs": [
    {
     "name": "stderr",
     "output_type": "stream",
     "text": [
      "2025-05-10 21:10:47.850526: I tensorflow/core/util/port.cc:153] oneDNN custom operations are on. You may see slightly different numerical results due to floating-point round-off errors from different computation orders. To turn them off, set the environment variable `TF_ENABLE_ONEDNN_OPTS=0`.\n",
      "2025-05-10 21:10:47.866606: E external/local_xla/xla/stream_executor/cuda/cuda_fft.cc:477] Unable to register cuFFT factory: Attempting to register factory for plugin cuFFT when one has already been registered\n",
      "WARNING: All log messages before absl::InitializeLog() is called are written to STDERR\n",
      "E0000 00:00:1746891647.885848   40487 cuda_dnn.cc:8310] Unable to register cuDNN factory: Attempting to register factory for plugin cuDNN when one has already been registered\n",
      "E0000 00:00:1746891647.891701   40487 cuda_blas.cc:1418] Unable to register cuBLAS factory: Attempting to register factory for plugin cuBLAS when one has already been registered\n",
      "2025-05-10 21:10:47.912095: I tensorflow/core/platform/cpu_feature_guard.cc:210] This TensorFlow binary is optimized to use available CPU instructions in performance-critical operations.\n",
      "To enable the following instructions: AVX2 AVX_VNNI FMA, in other operations, rebuild TensorFlow with the appropriate compiler flags.\n"
     ]
    }
   ],
   "source": [
    "import os \n",
    "os.environ['CUDA_VISIBLE_DEVICES']=\"-1\"\n",
    "import dagshub\n",
    "import mlflow\n",
    "from tensorflow.keras.models import load_model \n",
    "from mlflow import MlflowClient"
   ]
  },
  {
   "cell_type": "code",
   "execution_count": 2,
   "id": "70e62a9f-7c56-49b0-aecc-dcedcc9cf5a6",
   "metadata": {
    "scrolled": true
   },
   "outputs": [
    {
     "name": "stderr",
     "output_type": "stream",
     "text": [
      "2025-05-10 21:10:50.722293: E external/local_xla/xla/stream_executor/cuda/cuda_driver.cc:152] failed call to cuInit: INTERNAL: CUDA error: Failed call to cuInit: CUDA_ERROR_NO_DEVICE: no CUDA-capable device is detected\n",
      "2025-05-10 21:10:50.722335: I external/local_xla/xla/stream_executor/cuda/cuda_diagnostics.cc:137] retrieving CUDA diagnostic information for host: rijo-Thin-15-B12UCX\n",
      "2025-05-10 21:10:50.722343: I external/local_xla/xla/stream_executor/cuda/cuda_diagnostics.cc:144] hostname: rijo-Thin-15-B12UCX\n",
      "2025-05-10 21:10:50.722497: I external/local_xla/xla/stream_executor/cuda/cuda_diagnostics.cc:168] libcuda reported version is: 550.144.3\n",
      "2025-05-10 21:10:50.722525: I external/local_xla/xla/stream_executor/cuda/cuda_diagnostics.cc:172] kernel reported version is: 550.144.3\n",
      "2025-05-10 21:10:50.722530: I external/local_xla/xla/stream_executor/cuda/cuda_diagnostics.cc:259] kernel version seems to match DSO: 550.144.3\n"
     ]
    }
   ],
   "source": [
    "age_model = load_model(\"AGE.keras\")\n",
    "gender_model = load_model(\"GENDER.keras\")\n",
    "live_model = load_model(\"LIVE.keras\")"
   ]
  },
  {
   "cell_type": "markdown",
   "id": "7801a04e-79e0-42f6-96fa-7ba7408fa34e",
   "metadata": {},
   "source": [
    "## Mlflow model experiments"
   ]
  },
  {
   "cell_type": "code",
   "execution_count": 3,
   "id": "9793e36f-dead-41c1-8ac4-90344523e3b8",
   "metadata": {},
   "outputs": [
    {
     "data": {
      "text/html": [
       "<pre style=\"white-space:pre;overflow-x:auto;line-height:normal;font-family:Menlo,'DejaVu Sans Mono',consolas,'Courier New',monospace\">Accessing as slalrijo2005\n",
       "</pre>\n"
      ],
      "text/plain": [
       "Accessing as slalrijo2005\n"
      ]
     },
     "metadata": {},
     "output_type": "display_data"
    },
    {
     "data": {
      "text/html": [
       "<pre style=\"white-space:pre;overflow-x:auto;line-height:normal;font-family:Menlo,'DejaVu Sans Mono',consolas,'Courier New',monospace\">Initialized MLflow to track repo <span style=\"color: #008000; text-decoration-color: #008000\">\"slalrijo2005/AIH\"</span>\n",
       "</pre>\n"
      ],
      "text/plain": [
       "Initialized MLflow to track repo \u001b[32m\"slalrijo2005/AIH\"\u001b[0m\n"
      ]
     },
     "metadata": {},
     "output_type": "display_data"
    },
    {
     "data": {
      "text/html": [
       "<pre style=\"white-space:pre;overflow-x:auto;line-height:normal;font-family:Menlo,'DejaVu Sans Mono',consolas,'Courier New',monospace\">Repository slalrijo2005/AIH initialized!\n",
       "</pre>\n"
      ],
      "text/plain": [
       "Repository slalrijo2005/AIH initialized!\n"
      ]
     },
     "metadata": {},
     "output_type": "display_data"
    }
   ],
   "source": [
    "dagshub.init(repo_owner='slalrijo2005', repo_name='AIH', mlflow=True)"
   ]
  },
  {
   "cell_type": "markdown",
   "id": "933de348-6602-4946-8c03-4232c6c1b631",
   "metadata": {},
   "source": [
    "## Register models"
   ]
  },
  {
   "cell_type": "code",
   "execution_count": 4,
   "id": "5f1d2b57-2109-4425-8550-83d5c590755d",
   "metadata": {},
   "outputs": [
    {
     "name": "stderr",
     "output_type": "stream",
     "text": [
      "2025/05/10 21:11:02 WARNING mlflow.tensorflow: You are saving a TensorFlow Core model or Keras model without a signature. Inference with mlflow.pyfunc.spark_udf() will not work unless the model's pyfunc representation accepts pandas DataFrames as inference inputs.\n",
      "\u001b[31m2025/05/10 21:11:14 WARNING mlflow.models.model: Model logged without a signature and input example. Please set `input_example` parameter when logging the model to auto infer the model signature.\u001b[0m\n"
     ]
    },
    {
     "name": "stdout",
     "output_type": "stream",
     "text": [
      "🏃 View run AGE at: https://dagshub.com/slalrijo2005/AIH.mlflow/#/experiments/2/runs/5262eac9be794d48a615bf558b5b4e5f\n",
      "🧪 View experiment at: https://dagshub.com/slalrijo2005/AIH.mlflow/#/experiments/2\n"
     ]
    }
   ],
   "source": [
    "\n",
    "experiment_name = \"AIH_MODELS\"\n",
    "mlflow.set_experiment(experiment_name)\n",
    "\n",
    "age_eval_loss, age_eval_accuracy = [0.7137, 0.6598]\n",
    "\n",
    "with mlflow.start_run(run_name=\"AGE\") as run:\n",
    "    \n",
    "    run_id = run.info.run_id\n",
    "    \n",
    "    params = {\n",
    "        \"optimizer\": age_model.optimizer.__class__.__name__,\n",
    "        \"loss\": age_model.loss.name\n",
    "    }\n",
    "    mlflow.log_params(params)\n",
    "    \n",
    "    metrics = {\n",
    "        \"eval_loss\": age_eval_loss,\n",
    "        \"eval_accuracy\": age_eval_accuracy\n",
    "    }\n",
    "    mlflow.log_metrics(metrics)\n",
    "    \n",
    "    mlflow.tensorflow.log_model(age_model, artifact_path=\"age_model\")\n",
    "\n",
    "model_name=\"age_model\"\n",
    "mlflow.register_model(\n",
    "    f\"runs:/{run_id}/{model_name}\",\"age_model\"\n",
    ")\n"
   ]
  },
  {
   "cell_type": "code",
   "execution_count": 5,
   "id": "be646e77-6816-4b51-afe3-0b8a8b50bb23",
   "metadata": {},
   "outputs": [
    {
     "name": "stderr",
     "output_type": "stream",
     "text": [
      "2025/05/10 21:12:08 WARNING mlflow.tensorflow: You are saving a TensorFlow Core model or Keras model without a signature. Inference with mlflow.pyfunc.spark_udf() will not work unless the model's pyfunc representation accepts pandas DataFrames as inference inputs.\n",
      "\u001b[31m2025/05/10 21:12:17 WARNING mlflow.models.model: Model logged without a signature and input example. Please set `input_example` parameter when logging the model to auto infer the model signature.\u001b[0m\n"
     ]
    },
    {
     "name": "stdout",
     "output_type": "stream",
     "text": [
      "🏃 View run GENDER at: https://dagshub.com/slalrijo2005/AIH.mlflow/#/experiments/2/runs/80bde0965c3a4436a4694541a51c2460\n",
      "🧪 View experiment at: https://dagshub.com/slalrijo2005/AIH.mlflow/#/experiments/2\n"
     ]
    }
   ],
   "source": [
    "gender_eval_loss, gender_eval_accuracy = [0.1657363474369049, 0.9372478127479553]\n",
    "\n",
    "with mlflow.start_run(run_name=\"GENDER\") as run:\n",
    "    \n",
    "    run_id = run.info.run_id\n",
    "    \n",
    "    params = {\n",
    "        \"optimizer\": gender_model.optimizer.__class__.__name__,\n",
    "        \"loss\": gender_model.loss.name\n",
    "    }\n",
    "    mlflow.log_params(params)\n",
    "    \n",
    "    metrics = {\n",
    "        \"eval_loss\": gender_eval_loss,\n",
    "        \"eval_accuracy\": gender_eval_accuracy\n",
    "    }\n",
    "    mlflow.log_metrics(metrics)\n",
    "    \n",
    "    mlflow.tensorflow.log_model(gender_model, artifact_path=\"gender_model\")\n",
    "\n",
    "model_name=\"gender_model\"\n",
    "mlflow.register_model(\n",
    "    f\"runs:/{run_id}/{model_name}\",\"gender_model\"\n",
    ") \n"
   ]
  },
  {
   "cell_type": "code",
   "execution_count": 6,
   "id": "928dba40-b1e8-4b4a-b164-124527a24f05",
   "metadata": {},
   "outputs": [
    {
     "name": "stderr",
     "output_type": "stream",
     "text": [
      "2025/05/10 21:13:16 WARNING mlflow.tensorflow: You are saving a TensorFlow Core model or Keras model without a signature. Inference with mlflow.pyfunc.spark_udf() will not work unless the model's pyfunc representation accepts pandas DataFrames as inference inputs.\n",
      "\u001b[31m2025/05/10 21:13:25 WARNING mlflow.models.model: Model logged without a signature and input example. Please set `input_example` parameter when logging the model to auto infer the model signature.\u001b[0m\n"
     ]
    },
    {
     "name": "stdout",
     "output_type": "stream",
     "text": [
      "🏃 View run LIVE at: https://dagshub.com/slalrijo2005/AIH.mlflow/#/experiments/2/runs/d8451a328e6d4465bba95c3b360135a7\n",
      "🧪 View experiment at: https://dagshub.com/slalrijo2005/AIH.mlflow/#/experiments/2\n"
     ]
    }
   ],
   "source": [
    "live_eval_loss, live_eval_accuracy = [0.12329867482185364, 0.9666666388511658]\n",
    "\n",
    "with mlflow.start_run(run_name=\"LIVE\") as run:\n",
    "    \n",
    "    run_id = run.info.run_id\n",
    "    \n",
    "    params = {\n",
    "        \"optimizer\": live_model.optimizer.__class__.__name__,\n",
    "        \"loss\": live_model.loss.name\n",
    "    }\n",
    "    mlflow.log_params(params)\n",
    "    \n",
    "    metrics = {\n",
    "        \"eval_loss\": live_eval_loss,\n",
    "        \"eval_accuracy\": live_eval_accuracy\n",
    "    }\n",
    "    mlflow.log_metrics(metrics)\n",
    "    \n",
    "    mlflow.tensorflow.log_model(live_model, artifact_path=\"live_model\")\n",
    "\n",
    "model_name=\"live_model\"\n",
    "mlflow.register_model(\n",
    "    f\"runs:/{run_id}/{model_name}\",\"live_model\"\n",
    ") \n"
   ]
  },
  {
   "cell_type": "code",
   "execution_count": null,
   "id": "43ec28c1-869d-4259-b38d-5e87ace4276b",
   "metadata": {},
   "outputs": [],
   "source": []
  }
 ],
 "metadata": {
  "kernelspec": {
   "display_name": "Python 3 (ipykernel)",
   "language": "python",
   "name": "python3"
  },
  "language_info": {
   "codemirror_mode": {
    "name": "ipython",
    "version": 3
   },
   "file_extension": ".py",
   "mimetype": "text/x-python",
   "name": "python",
   "nbconvert_exporter": "python",
   "pygments_lexer": "ipython3",
   "version": "3.12.3"
  }
 },
 "nbformat": 4,
 "nbformat_minor": 5
}
